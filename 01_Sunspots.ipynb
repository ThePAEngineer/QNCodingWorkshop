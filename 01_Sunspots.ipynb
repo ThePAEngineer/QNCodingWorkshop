{
  "nbformat": 4,
  "nbformat_minor": 0,
  "metadata": {
    "anaconda-cloud": {},
    "kernelspec": {
      "display_name": "Python 3",
      "language": "python",
      "name": "python3"
    },
    "language_info": {
      "codemirror_mode": {
        "name": "ipython",
        "version": 3
      },
      "file_extension": ".py",
      "mimetype": "text/x-python",
      "name": "python",
      "nbconvert_exporter": "python",
      "pygments_lexer": "ipython3",
      "version": "3.7.4"
    },
    "colab": {
      "provenance": []
    }
  },
  "cells": [
    {
      "cell_type": "markdown",
      "metadata": {
        "id": "ErdHWaFVNlGx"
      },
      "source": [
        "#  Plotting Sunspots\n",
        "This activity looks for patterns in sunspot data from the Sunspot Index and Long-term Solar Observations.\n",
        "\n",
        "To get started,you won't hurt anything by experimenting. If you break it, close the tab and open the activity again to start over.\n",
        "\n",
        "When you're ready, run each code cell until you get down to **Part One**."
      ]
    },
    {
      "cell_type": "code",
      "metadata": {
        "id": "v0y7wlYmNlG0"
      },
      "source": [
        "#importing what we'll need\n",
        "import numpy as np\n",
        "import pandas as pd\n",
        "%matplotlib inline\n",
        "import matplotlib.pyplot as plt\n",
        "pd.options.display.max_columns = 25"
      ],
      "execution_count": null,
      "outputs": []
    },
    {
      "cell_type": "code",
      "metadata": {
        "id": "zCNBSlw0NlG7"
      },
      "source": [
        "# average monthly sunspots from Git file updated on 7/8/20\n",
        "data = pd.read_csv(\"https://github.com/fizzixprof/sunspots/raw/master/Sunspots.csv\")\n",
        "\n",
        "data.head(5) # choose to show the first (how many) lines of the file"
      ],
      "execution_count": null,
      "outputs": []
    },
    {
      "cell_type": "code",
      "metadata": {
        "id": "dkPib1s_NlHC"
      },
      "source": [
        "# The .shape command displays the (number of rows , number of columns) in a file.\n",
        "data.shape"
      ],
      "execution_count": null,
      "outputs": []
    },
    {
      "cell_type": "markdown",
      "metadata": {
        "id": "QtR0x6gINlHa"
      },
      "source": [
        "## Part One\n",
        "The table above shows the number of sunspots counted each month.\n",
        "- How far back does the data go?\n",
        "- How many rows of data do you have?\n",
        "- How is time represented in this dataset?\n",
        "When you're ready, run each code cell until you get down to **Part Two**."
      ]
    },
    {
      "cell_type": "code",
      "metadata": {
        "id": "ye8hL8wRNlHb"
      },
      "source": [
        "# makes the scatterplot\n",
        "x=data.Year # defines the x-axis\n",
        "y=data.Sunspots # defines the y-axis\n",
        "plt.scatter(x,y, s=1) # defines the graph as a scatterplot with x and y\n",
        "plt.xlabel('x label') # label your x-axis\n",
        "plt.ylabel('y label') # label your y-axis\n",
        "plt.title('title me!') # title your graph\n",
        "plt.axis([1749, 2020, 0, 300]) # dimensions of your scatterplot\n",
        "plt.show()"
      ],
      "execution_count": null,
      "outputs": []
    },
    {
      "cell_type": "markdown",
      "metadata": {
        "id": "01BbTHNElFGf"
      },
      "source": [
        "# Part Two\n",
        "The code above makes a scatterplot with a point for the amount of sunspots each month.\n",
        "\n",
        "Do you notice a pattern in the graph?\n",
        "\n",
        "The title and axis labels on the graph could use some work. Try editing the code above the graph, then run the code again to see the changes."
      ]
    },
    {
      "cell_type": "markdown",
      "metadata": {
        "id": "6_zKJTxFlUkS"
      },
      "source": [
        " ## Part Three  \n",
        "Now it's time to conduct your own investigation. The code above lets you filter the data set by year (it's called a \"query\").  \n",
        "- Find the line that does a query on \"year\".  \n",
        "- Try filtering the data for only sunspots since 1900, then make a plot.\n",
        "- Try filtering the data for only sunspots between 1900 and 1950. Change the x-axis so you can zoom in on this data.\n",
        "\n",
        "Is the cycle about the same? How many years is it, approximately?\n",
        "\n",
        "Cut your data using a different time frame and see if the cycles are about the same length as you see here."
      ]
    },
    {
      "cell_type": "code",
      "metadata": {
        "id": "17DC-mLNiXBP"
      },
      "source": [
        "plotdata = data.query('Year < 2000') # redefining the data to plot based on your query\n",
        "x=plotdata['Year']\n",
        "y=plotdata['Sunspots']\n",
        "plt.scatter(x,y, s=1)\n",
        "plt.xlabel('x label')\n",
        "plt.ylabel('y label')\n",
        "plt.title('title me!')\n",
        "plt.axis([1749, 2020, 0, 300])\n",
        "plt.show()"
      ],
      "execution_count": null,
      "outputs": []
    },
    {
      "cell_type": "markdown",
      "metadata": {
        "id": "stay-G74lzBb"
      },
      "source": [
        "  ## Part Four  \n",
        "Let's find specific values: sort your data to find the 3 months with the greatest number of sunspots. Find the top 20 months.\n",
        "\n",
        "*   Are they near each other? Similar years?\n",
        "\n",
        "*   What would happen if you changed your sort to head from tail?\n",
        "*   Do some of those values surprise you?\n",
        "\n",
        "You can investigate where numbers in your data come from when you see surprising values. The data [website](http://www.sidc.be/silso/infosnmstot) has a button to read over how they determine sunspot averages."
      ]
    },
    {
      "cell_type": "code",
      "metadata": {
        "id": "YyxqYwU3naCg"
      },
      "source": [
        "# Sort the data to find the highest values\n",
        "# Create a data frame to make sorting easier\n",
        "df = pd.DataFrame(data) # Creates a data frame from your original data\n",
        "sort_by_sunspot_number = data.sort_values('Sunspots') # Defines a sorted set\n",
        "print(sort_by_sunspot_number.tail(n=3)) #Shows just the top 3"
      ],
      "execution_count": null,
      "outputs": []
    },
    {
      "cell_type": "code",
      "metadata": {
        "id": "dKCa02hdrX00"
      },
      "source": [
        "# write your own command to see the top 20 months for sunspots"
      ],
      "execution_count": null,
      "outputs": []
    },
    {
      "cell_type": "code",
      "metadata": {
        "id": "niJV0xEtspk3"
      },
      "source": [
        "# replace tail with head to find the bottom 20 months for sunspots"
      ],
      "execution_count": null,
      "outputs": []
    },
    {
      "cell_type": "markdown",
      "metadata": {
        "id": "VkFYIjqowO1A"
      },
      "source": [
        "  ## Part Five  \n",
        "Now let's look at the same data a different way.  The original data files are located here: http://www.sidc.be/silso/datafiles\n",
        "\n",
        "Find the data for yearly totals and download it to your computer. Open in Excel and turn text to columns using semicolons to delineate. Get rid of extra columns and add a row at the top with the headers. Save it and upload it to your GitHub.\n",
        "\n",
        "Pull your newly created data over for a second round of plotting.\n",
        "\n",
        "*   What does the scatterplot look like now?\n",
        "\n",
        "\n",
        "For this data, try connecting your lines instead of keeping the scatterplot. Use a different command from matplotlib.\n",
        "*   What does the graph look like now?\n",
        "\n",
        "*   Are your dimensions the same for this dataset?"
      ]
    },
    {
      "cell_type": "code",
      "metadata": {
        "id": "KYcEdgmVxQMi"
      },
      "source": [
        "from google.colab import files\n",
        "file = files.upload()\n",
        "data2 = pd.read_csv(list(file.keys())[0], names=[\"Year\", \"Sunspots\", \"Unk\", \"Unk1\", \"Unk2\"],sep=';',index_col=None)\n"
      ],
      "execution_count": null,
      "outputs": []
    },
    {
      "cell_type": "code",
      "metadata": {
        "id": "920gS9kQxanZ"
      },
      "source": [
        "data2.head()\n",
        "# plot your data\n",
        "# the command 'plt.plot(x,y)' will connect lines between points on a scatterplot\n"
      ],
      "execution_count": null,
      "outputs": []
    },
    {
      "cell_type": "markdown",
      "metadata": {
        "id": "FLdrc4TKEZs_"
      },
      "source": [
        "  ## Part Six  \n",
        "What happens if you go back up to Part One and rerun the first graph you made?\n",
        "*   What does it look like?\n",
        "*  What happened?\n",
        "*   What does this tell you about working in a Colab Notebook?\n",
        "\n",
        "\n",
        "\n"
      ]
    },
    {
      "cell_type": "markdown",
      "metadata": {
        "id": "7zxnaMQNNlHf"
      },
      "source": [
        "## Saving Your Work  \n",
        "This is running on a Google server on a distant planet and deletes what you've done when you close this tab. To save your work for later use or analysis you have a few options:  \n",
        "- File > \"Save a copy in Drive\" will save it to you Google Drive in a folder called \"Collaboratory\". You can run it later from there.  \n",
        "- File > \"Download .ipynb\" to save to your computer (and run with Jupyter software later)  \n",
        "- File > Print to print.  \n",
        "- To save an image of a graph or chart, right-click on it and select Save Image as ...  \n",
        "\n",
        "\n",
        "---\n",
        "\n",
        "\n",
        "## Credits\n",
        "The data come from the [Sunspot Index and Long-term Solar Observations](http://www.sidc.be/silso/datafiles) Source: WDC-SILSO, Royal Observatory of Belgium, Brussels. This notebook was created by physics teacher and Quarknet member Tiffany Coke using a template created by fellow physics teacher Peter Apps, York Middle/High School, Retsof, NY, and further developed by [Adam LaMee](https://adamlamee.github.io/). Thanks to the great folks at [Binder](https://mybinder.org/) and [Google Colaboratory](https://colab.research.google.com/notebooks/intro.ipynb) for making this notebook interactive without you needing to download it or install [Jupyter](https://jupyter.org/) on your own device. Find more activities and license info at [CODINGinK12.org](http://www.codingink12.org)."
      ]
    }
  ]
}