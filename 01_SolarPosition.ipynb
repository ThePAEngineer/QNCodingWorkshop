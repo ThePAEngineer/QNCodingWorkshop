{
  "nbformat": 4,
  "nbformat_minor": 0,
  "metadata": {
    "colab": {
      "provenance": []
    },
    "kernelspec": {
      "name": "python3",
      "display_name": "Python 3"
    },
    "language_info": {
      "name": "python"
    }
  },
  "cells": [
    {
      "cell_type": "markdown",
      "source": [
        "Solar position is a fundamental aspect of solar resource assessment. The different angles used in the reference system to locate the sun at a particular time and location are probably the most common input in solar resource modelling and assessment."
      ],
      "metadata": {
        "id": "Bt1bTaeG3Glj"
      }
    },
    {
      "cell_type": "code",
      "source": [
        "# Libraries\n",
        "import numpy as np\n",
        "import pandas as pd\n",
        "import matplotlib.pyplot as plt"
      ],
      "metadata": {
        "id": "RXpatxuu3UYM"
      },
      "execution_count": null,
      "outputs": []
    },
    {
      "cell_type": "markdown",
      "source": [
        "We are going to want to draw data from a module called pvlib.\n",
        "\n",
        "![link text](https://pvlib-python.readthedocs.io/en/stable/_images/pvlib_logo_horiz.png)\n",
        "\n",
        "pvlib was developed at Sandia National Laboratories and it provides a set of functions and classes for simulating the performance of photovoltaic energy systems.\n",
        "\n",
        "Since this is an outside data source, we will need to install this module before we can import data from it.\n"
      ],
      "metadata": {
        "id": "1dIzs5QmKw7v"
      }
    },
    {
      "cell_type": "code",
      "source": [
        "!pip install pvlib"
      ],
      "metadata": {
        "colab": {
          "base_uri": "https://localhost:8080/"
        },
        "id": "ibJGyBYaMAeQ",
        "outputId": "27d20a17-b723-4170-ec75-aae0d3a441ab"
      },
      "execution_count": null,
      "outputs": [
        {
          "output_type": "stream",
          "name": "stdout",
          "text": [
            "Looking in indexes: https://pypi.org/simple, https://us-python.pkg.dev/colab-wheels/public/simple/\n",
            "Collecting pvlib\n",
            "  Downloading pvlib-0.9.5-py3-none-any.whl (29.4 MB)\n",
            "\u001b[2K     \u001b[90m━━━━━━━━━━━━━━━━━━━━━━━━━━━━━━━━━━━━━━━━\u001b[0m \u001b[32m29.4/29.4 MB\u001b[0m \u001b[31m22.9 MB/s\u001b[0m eta \u001b[36m0:00:00\u001b[0m\n",
            "\u001b[?25hRequirement already satisfied: numpy>=1.16.0 in /usr/local/lib/python3.10/dist-packages (from pvlib) (1.22.4)\n",
            "Requirement already satisfied: pandas>=0.25.0 in /usr/local/lib/python3.10/dist-packages (from pvlib) (1.5.3)\n",
            "Requirement already satisfied: pytz in /usr/local/lib/python3.10/dist-packages (from pvlib) (2022.7.1)\n",
            "Requirement already satisfied: requests in /usr/local/lib/python3.10/dist-packages (from pvlib) (2.27.1)\n",
            "Requirement already satisfied: scipy>=1.4.0 in /usr/local/lib/python3.10/dist-packages (from pvlib) (1.10.1)\n",
            "Requirement already satisfied: h5py in /usr/local/lib/python3.10/dist-packages (from pvlib) (3.8.0)\n",
            "Requirement already satisfied: python-dateutil>=2.8.1 in /usr/local/lib/python3.10/dist-packages (from pandas>=0.25.0->pvlib) (2.8.2)\n",
            "Requirement already satisfied: urllib3<1.27,>=1.21.1 in /usr/local/lib/python3.10/dist-packages (from requests->pvlib) (1.26.15)\n",
            "Requirement already satisfied: certifi>=2017.4.17 in /usr/local/lib/python3.10/dist-packages (from requests->pvlib) (2022.12.7)\n",
            "Requirement already satisfied: charset-normalizer~=2.0.0 in /usr/local/lib/python3.10/dist-packages (from requests->pvlib) (2.0.12)\n",
            "Requirement already satisfied: idna<4,>=2.5 in /usr/local/lib/python3.10/dist-packages (from requests->pvlib) (3.4)\n",
            "Requirement already satisfied: six>=1.5 in /usr/local/lib/python3.10/dist-packages (from python-dateutil>=2.8.1->pandas>=0.25.0->pvlib) (1.16.0)\n",
            "Installing collected packages: pvlib\n",
            "Successfully installed pvlib-0.9.5\n"
          ]
        }
      ]
    },
    {
      "cell_type": "markdown",
      "source": [
        "Now that we have installed the module, we can import it into our program."
      ],
      "metadata": {
        "id": "xcc6pbd4MHeo"
      }
    },
    {
      "cell_type": "code",
      "source": [
        "import pvlib"
      ],
      "metadata": {
        "id": "tjTaslq0MHti"
      },
      "execution_count": null,
      "outputs": []
    },
    {
      "cell_type": "markdown",
      "source": [
        "There are two parts to the the pvlib module that we want to use in our program. solarposition supplies data about...wait for it...the position of the Sun. Location allows us to use a specific location for our data. Import these two objects."
      ],
      "metadata": {
        "id": "liTD30X_PZwQ"
      }
    },
    {
      "cell_type": "code",
      "source": [
        "from pvlib import solarposition\n",
        "from pvlib.location import Location"
      ],
      "metadata": {
        "id": "8LbWHVgsPaLP"
      },
      "execution_count": null,
      "outputs": []
    },
    {
      "cell_type": "markdown",
      "source": [
        "Now that we have our background information all set up, we need to specify a location. You will probably need to look up the time zones. To enter them into the code correctly, use [pvlib's time zone documentation](https://pvlib-python.readthedocs.io/en/stable/timetimezones.html)."
      ],
      "metadata": {
        "id": "uQrkMkKDQEuE"
      }
    },
    {
      "cell_type": "code",
      "source": [
        "# Definition of Location object. Coordinates and elevation of Council Grove\n",
        "site = Location(38.6629036,-96.510788, 'Etc/GMT-6', 0, 'Council Grove, Kansas') # latitude, longitude, time_zone, altitude, name"
      ],
      "metadata": {
        "id": "ozpuyFMcSIup"
      },
      "execution_count": null,
      "outputs": []
    },
    {
      "cell_type": "markdown",
      "source": [
        "We are able to change the date of the data we are looking at using the pd.date_range function. Let's start with the spring equinox."
      ],
      "metadata": {
        "id": "OPsCyiJJTT94"
      }
    },
    {
      "cell_type": "code",
      "source": [
        "# Definition of a time range of simulation\n",
        "times = pd.date_range('2022-03-21 00:00:00', '2022-3-21 23:59:00', closed='left', freq='H', tz=site.tz)"
      ],
      "metadata": {
        "id": "DM7TU8DqT28Q",
        "colab": {
          "base_uri": "https://localhost:8080/"
        },
        "outputId": "9ecdb72d-d1e0-425a-98f3-76f74448789c"
      },
      "execution_count": null,
      "outputs": [
        {
          "output_type": "stream",
          "name": "stderr",
          "text": [
            "<ipython-input-6-b11256069904>:2: FutureWarning: Argument `closed` is deprecated in favor of `inclusive`.\n",
            "  times = pd.date_range('2022-03-21 00:00:00', '2022-3-21 23:59:00', closed='left', freq='H', tz=site.tz)\n"
          ]
        }
      ]
    },
    {
      "cell_type": "markdown",
      "source": [
        "Let's print a data table with the information that is available to us in this module. Remember you can change the number of rows of data that are printed. For lack of a more creative idenitfier, let's call our data \"data\"."
      ],
      "metadata": {
        "id": "jokBxfalUJXY"
      }
    },
    {
      "cell_type": "code",
      "source": [
        "# Estimate Solar Position with the 'Location' object\n",
        "data = site.get_solarposition(times)\n",
        "\n",
        "# Visualize the resulting DataFrame\n",
        "data.head(24)"
      ],
      "metadata": {
        "colab": {
          "base_uri": "https://localhost:8080/",
          "height": 802
        },
        "id": "q0R0pHc5WFHy",
        "outputId": "4c2f1be0-830d-4dd5-c79f-3872ad2d584a"
      },
      "execution_count": null,
      "outputs": [
        {
          "output_type": "execute_result",
          "data": {
            "text/plain": [
              "                           apparent_zenith      zenith  apparent_elevation  \\\n",
              "2022-03-21 00:00:00+06:00        39.365330   39.379139           50.634670   \n",
              "2022-03-21 01:00:00+06:00        39.073345   39.087012           50.926655   \n",
              "2022-03-21 02:00:00+06:00        43.387495   43.403400           46.612505   \n",
              "2022-03-21 03:00:00+06:00        51.120856   51.141700           38.879144   \n",
              "2022-03-21 04:00:00+06:00        60.921411   60.951527           29.078589   \n",
              "2022-03-21 05:00:00+06:00        71.849489   71.899974           18.150511   \n",
              "2022-03-21 06:00:00+06:00        83.283640   83.412837            6.716360   \n",
              "2022-03-21 07:00:00+06:00        95.104036   95.104036           -5.104036   \n",
              "2022-03-21 08:00:00+06:00       106.646250  106.646250          -16.646250   \n",
              "2022-03-21 09:00:00+06:00       117.665014  117.665014          -27.665014   \n",
              "2022-03-21 10:00:00+06:00       127.614621  127.614621          -37.614621   \n",
              "2022-03-21 11:00:00+06:00       135.613059  135.613059          -45.613059   \n",
              "2022-03-21 12:00:00+06:00       140.357033  140.357033          -50.357033   \n",
              "2022-03-21 13:00:00+06:00       140.603049  140.603049          -50.603049   \n",
              "2022-03-21 14:00:00+06:00       136.272114  136.272114          -46.272114   \n",
              "2022-03-21 15:00:00+06:00       128.537797  128.537797          -38.537797   \n",
              "2022-03-21 16:00:00+06:00       118.734029  118.734029          -28.734029   \n",
              "2022-03-21 17:00:00+06:00       107.785765  107.785765          -17.785765   \n",
              "2022-03-21 18:00:00+06:00        96.264067   96.264067           -6.264067   \n",
              "2022-03-21 19:00:00+06:00        84.402519   84.552960            5.597481   \n",
              "2022-03-21 20:00:00+06:00        72.923423   72.977173           17.076577   \n",
              "2022-03-21 21:00:00+06:00        61.876297   61.907615           28.123703   \n",
              "2022-03-21 22:00:00+06:00        51.865366   51.886770           38.134634   \n",
              "2022-03-21 23:00:00+06:00        43.784167   43.800294           46.215833   \n",
              "\n",
              "                           elevation     azimuth  equation_of_time  \n",
              "2022-03-21 00:00:00+06:00  50.620861  166.755971         -7.382987  \n",
              "2022-03-21 01:00:00+06:00  50.912988  190.577113         -7.370613  \n",
              "2022-03-21 02:00:00+06:00  46.596600  212.473594         -7.358235  \n",
              "2022-03-21 03:00:00+06:00  38.858300  230.051382         -7.345854  \n",
              "2022-03-21 04:00:00+06:00  29.048473  243.787078         -7.333470  \n",
              "2022-03-21 05:00:00+06:00  18.100026  255.009208         -7.321083  \n",
              "2022-03-21 06:00:00+06:00   6.587163  264.876753         -7.308693  \n",
              "2022-03-21 07:00:00+06:00  -5.104036  274.296470         -7.296300  \n",
              "2022-03-21 08:00:00+06:00 -16.646250  284.075213         -7.283904  \n",
              "2022-03-21 09:00:00+06:00 -27.665014  295.096774         -7.271505  \n",
              "2022-03-21 10:00:00+06:00 -37.614621  308.477938         -7.259103  \n",
              "2022-03-21 11:00:00+06:00 -45.613059  325.529579         -7.246698  \n",
              "2022-03-21 12:00:00+06:00 -50.357033  346.891243         -7.234291  \n",
              "2022-03-21 13:00:00+06:00 -50.603049   10.564878         -7.221880  \n",
              "2022-03-21 14:00:00+06:00 -46.272114   32.313905         -7.209467  \n",
              "2022-03-21 15:00:00+06:00 -38.537797   49.801159         -7.197050  \n",
              "2022-03-21 16:00:00+06:00 -28.734029   63.490075         -7.184631  \n",
              "2022-03-21 17:00:00+06:00 -17.785765   74.684294         -7.172210  \n",
              "2022-03-21 18:00:00+06:00  -6.264067   84.528272         -7.159785  \n",
              "2022-03-21 19:00:00+06:00   5.447040   93.922272         -7.147358  \n",
              "2022-03-21 20:00:00+06:00  17.022827  103.671861         -7.134928  \n",
              "2022-03-21 21:00:00+06:00  28.092385  114.666347         -7.122496  \n",
              "2022-03-21 22:00:00+06:00  38.113230  128.043704         -7.110061  \n",
              "2022-03-21 23:00:00+06:00  46.199706  145.169196         -7.097623  "
            ],
            "text/html": [
              "\n",
              "  <div id=\"df-a5568b06-9c47-4978-8877-05f3554913b6\">\n",
              "    <div class=\"colab-df-container\">\n",
              "      <div>\n",
              "<style scoped>\n",
              "    .dataframe tbody tr th:only-of-type {\n",
              "        vertical-align: middle;\n",
              "    }\n",
              "\n",
              "    .dataframe tbody tr th {\n",
              "        vertical-align: top;\n",
              "    }\n",
              "\n",
              "    .dataframe thead th {\n",
              "        text-align: right;\n",
              "    }\n",
              "</style>\n",
              "<table border=\"1\" class=\"dataframe\">\n",
              "  <thead>\n",
              "    <tr style=\"text-align: right;\">\n",
              "      <th></th>\n",
              "      <th>apparent_zenith</th>\n",
              "      <th>zenith</th>\n",
              "      <th>apparent_elevation</th>\n",
              "      <th>elevation</th>\n",
              "      <th>azimuth</th>\n",
              "      <th>equation_of_time</th>\n",
              "    </tr>\n",
              "  </thead>\n",
              "  <tbody>\n",
              "    <tr>\n",
              "      <th>2022-03-21 00:00:00+06:00</th>\n",
              "      <td>39.365330</td>\n",
              "      <td>39.379139</td>\n",
              "      <td>50.634670</td>\n",
              "      <td>50.620861</td>\n",
              "      <td>166.755971</td>\n",
              "      <td>-7.382987</td>\n",
              "    </tr>\n",
              "    <tr>\n",
              "      <th>2022-03-21 01:00:00+06:00</th>\n",
              "      <td>39.073345</td>\n",
              "      <td>39.087012</td>\n",
              "      <td>50.926655</td>\n",
              "      <td>50.912988</td>\n",
              "      <td>190.577113</td>\n",
              "      <td>-7.370613</td>\n",
              "    </tr>\n",
              "    <tr>\n",
              "      <th>2022-03-21 02:00:00+06:00</th>\n",
              "      <td>43.387495</td>\n",
              "      <td>43.403400</td>\n",
              "      <td>46.612505</td>\n",
              "      <td>46.596600</td>\n",
              "      <td>212.473594</td>\n",
              "      <td>-7.358235</td>\n",
              "    </tr>\n",
              "    <tr>\n",
              "      <th>2022-03-21 03:00:00+06:00</th>\n",
              "      <td>51.120856</td>\n",
              "      <td>51.141700</td>\n",
              "      <td>38.879144</td>\n",
              "      <td>38.858300</td>\n",
              "      <td>230.051382</td>\n",
              "      <td>-7.345854</td>\n",
              "    </tr>\n",
              "    <tr>\n",
              "      <th>2022-03-21 04:00:00+06:00</th>\n",
              "      <td>60.921411</td>\n",
              "      <td>60.951527</td>\n",
              "      <td>29.078589</td>\n",
              "      <td>29.048473</td>\n",
              "      <td>243.787078</td>\n",
              "      <td>-7.333470</td>\n",
              "    </tr>\n",
              "    <tr>\n",
              "      <th>2022-03-21 05:00:00+06:00</th>\n",
              "      <td>71.849489</td>\n",
              "      <td>71.899974</td>\n",
              "      <td>18.150511</td>\n",
              "      <td>18.100026</td>\n",
              "      <td>255.009208</td>\n",
              "      <td>-7.321083</td>\n",
              "    </tr>\n",
              "    <tr>\n",
              "      <th>2022-03-21 06:00:00+06:00</th>\n",
              "      <td>83.283640</td>\n",
              "      <td>83.412837</td>\n",
              "      <td>6.716360</td>\n",
              "      <td>6.587163</td>\n",
              "      <td>264.876753</td>\n",
              "      <td>-7.308693</td>\n",
              "    </tr>\n",
              "    <tr>\n",
              "      <th>2022-03-21 07:00:00+06:00</th>\n",
              "      <td>95.104036</td>\n",
              "      <td>95.104036</td>\n",
              "      <td>-5.104036</td>\n",
              "      <td>-5.104036</td>\n",
              "      <td>274.296470</td>\n",
              "      <td>-7.296300</td>\n",
              "    </tr>\n",
              "    <tr>\n",
              "      <th>2022-03-21 08:00:00+06:00</th>\n",
              "      <td>106.646250</td>\n",
              "      <td>106.646250</td>\n",
              "      <td>-16.646250</td>\n",
              "      <td>-16.646250</td>\n",
              "      <td>284.075213</td>\n",
              "      <td>-7.283904</td>\n",
              "    </tr>\n",
              "    <tr>\n",
              "      <th>2022-03-21 09:00:00+06:00</th>\n",
              "      <td>117.665014</td>\n",
              "      <td>117.665014</td>\n",
              "      <td>-27.665014</td>\n",
              "      <td>-27.665014</td>\n",
              "      <td>295.096774</td>\n",
              "      <td>-7.271505</td>\n",
              "    </tr>\n",
              "    <tr>\n",
              "      <th>2022-03-21 10:00:00+06:00</th>\n",
              "      <td>127.614621</td>\n",
              "      <td>127.614621</td>\n",
              "      <td>-37.614621</td>\n",
              "      <td>-37.614621</td>\n",
              "      <td>308.477938</td>\n",
              "      <td>-7.259103</td>\n",
              "    </tr>\n",
              "    <tr>\n",
              "      <th>2022-03-21 11:00:00+06:00</th>\n",
              "      <td>135.613059</td>\n",
              "      <td>135.613059</td>\n",
              "      <td>-45.613059</td>\n",
              "      <td>-45.613059</td>\n",
              "      <td>325.529579</td>\n",
              "      <td>-7.246698</td>\n",
              "    </tr>\n",
              "    <tr>\n",
              "      <th>2022-03-21 12:00:00+06:00</th>\n",
              "      <td>140.357033</td>\n",
              "      <td>140.357033</td>\n",
              "      <td>-50.357033</td>\n",
              "      <td>-50.357033</td>\n",
              "      <td>346.891243</td>\n",
              "      <td>-7.234291</td>\n",
              "    </tr>\n",
              "    <tr>\n",
              "      <th>2022-03-21 13:00:00+06:00</th>\n",
              "      <td>140.603049</td>\n",
              "      <td>140.603049</td>\n",
              "      <td>-50.603049</td>\n",
              "      <td>-50.603049</td>\n",
              "      <td>10.564878</td>\n",
              "      <td>-7.221880</td>\n",
              "    </tr>\n",
              "    <tr>\n",
              "      <th>2022-03-21 14:00:00+06:00</th>\n",
              "      <td>136.272114</td>\n",
              "      <td>136.272114</td>\n",
              "      <td>-46.272114</td>\n",
              "      <td>-46.272114</td>\n",
              "      <td>32.313905</td>\n",
              "      <td>-7.209467</td>\n",
              "    </tr>\n",
              "    <tr>\n",
              "      <th>2022-03-21 15:00:00+06:00</th>\n",
              "      <td>128.537797</td>\n",
              "      <td>128.537797</td>\n",
              "      <td>-38.537797</td>\n",
              "      <td>-38.537797</td>\n",
              "      <td>49.801159</td>\n",
              "      <td>-7.197050</td>\n",
              "    </tr>\n",
              "    <tr>\n",
              "      <th>2022-03-21 16:00:00+06:00</th>\n",
              "      <td>118.734029</td>\n",
              "      <td>118.734029</td>\n",
              "      <td>-28.734029</td>\n",
              "      <td>-28.734029</td>\n",
              "      <td>63.490075</td>\n",
              "      <td>-7.184631</td>\n",
              "    </tr>\n",
              "    <tr>\n",
              "      <th>2022-03-21 17:00:00+06:00</th>\n",
              "      <td>107.785765</td>\n",
              "      <td>107.785765</td>\n",
              "      <td>-17.785765</td>\n",
              "      <td>-17.785765</td>\n",
              "      <td>74.684294</td>\n",
              "      <td>-7.172210</td>\n",
              "    </tr>\n",
              "    <tr>\n",
              "      <th>2022-03-21 18:00:00+06:00</th>\n",
              "      <td>96.264067</td>\n",
              "      <td>96.264067</td>\n",
              "      <td>-6.264067</td>\n",
              "      <td>-6.264067</td>\n",
              "      <td>84.528272</td>\n",
              "      <td>-7.159785</td>\n",
              "    </tr>\n",
              "    <tr>\n",
              "      <th>2022-03-21 19:00:00+06:00</th>\n",
              "      <td>84.402519</td>\n",
              "      <td>84.552960</td>\n",
              "      <td>5.597481</td>\n",
              "      <td>5.447040</td>\n",
              "      <td>93.922272</td>\n",
              "      <td>-7.147358</td>\n",
              "    </tr>\n",
              "    <tr>\n",
              "      <th>2022-03-21 20:00:00+06:00</th>\n",
              "      <td>72.923423</td>\n",
              "      <td>72.977173</td>\n",
              "      <td>17.076577</td>\n",
              "      <td>17.022827</td>\n",
              "      <td>103.671861</td>\n",
              "      <td>-7.134928</td>\n",
              "    </tr>\n",
              "    <tr>\n",
              "      <th>2022-03-21 21:00:00+06:00</th>\n",
              "      <td>61.876297</td>\n",
              "      <td>61.907615</td>\n",
              "      <td>28.123703</td>\n",
              "      <td>28.092385</td>\n",
              "      <td>114.666347</td>\n",
              "      <td>-7.122496</td>\n",
              "    </tr>\n",
              "    <tr>\n",
              "      <th>2022-03-21 22:00:00+06:00</th>\n",
              "      <td>51.865366</td>\n",
              "      <td>51.886770</td>\n",
              "      <td>38.134634</td>\n",
              "      <td>38.113230</td>\n",
              "      <td>128.043704</td>\n",
              "      <td>-7.110061</td>\n",
              "    </tr>\n",
              "    <tr>\n",
              "      <th>2022-03-21 23:00:00+06:00</th>\n",
              "      <td>43.784167</td>\n",
              "      <td>43.800294</td>\n",
              "      <td>46.215833</td>\n",
              "      <td>46.199706</td>\n",
              "      <td>145.169196</td>\n",
              "      <td>-7.097623</td>\n",
              "    </tr>\n",
              "  </tbody>\n",
              "</table>\n",
              "</div>\n",
              "      <button class=\"colab-df-convert\" onclick=\"convertToInteractive('df-a5568b06-9c47-4978-8877-05f3554913b6')\"\n",
              "              title=\"Convert this dataframe to an interactive table.\"\n",
              "              style=\"display:none;\">\n",
              "        \n",
              "  <svg xmlns=\"http://www.w3.org/2000/svg\" height=\"24px\"viewBox=\"0 0 24 24\"\n",
              "       width=\"24px\">\n",
              "    <path d=\"M0 0h24v24H0V0z\" fill=\"none\"/>\n",
              "    <path d=\"M18.56 5.44l.94 2.06.94-2.06 2.06-.94-2.06-.94-.94-2.06-.94 2.06-2.06.94zm-11 1L8.5 8.5l.94-2.06 2.06-.94-2.06-.94L8.5 2.5l-.94 2.06-2.06.94zm10 10l.94 2.06.94-2.06 2.06-.94-2.06-.94-.94-2.06-.94 2.06-2.06.94z\"/><path d=\"M17.41 7.96l-1.37-1.37c-.4-.4-.92-.59-1.43-.59-.52 0-1.04.2-1.43.59L10.3 9.45l-7.72 7.72c-.78.78-.78 2.05 0 2.83L4 21.41c.39.39.9.59 1.41.59.51 0 1.02-.2 1.41-.59l7.78-7.78 2.81-2.81c.8-.78.8-2.07 0-2.86zM5.41 20L4 18.59l7.72-7.72 1.47 1.35L5.41 20z\"/>\n",
              "  </svg>\n",
              "      </button>\n",
              "      \n",
              "  <style>\n",
              "    .colab-df-container {\n",
              "      display:flex;\n",
              "      flex-wrap:wrap;\n",
              "      gap: 12px;\n",
              "    }\n",
              "\n",
              "    .colab-df-convert {\n",
              "      background-color: #E8F0FE;\n",
              "      border: none;\n",
              "      border-radius: 50%;\n",
              "      cursor: pointer;\n",
              "      display: none;\n",
              "      fill: #1967D2;\n",
              "      height: 32px;\n",
              "      padding: 0 0 0 0;\n",
              "      width: 32px;\n",
              "    }\n",
              "\n",
              "    .colab-df-convert:hover {\n",
              "      background-color: #E2EBFA;\n",
              "      box-shadow: 0px 1px 2px rgba(60, 64, 67, 0.3), 0px 1px 3px 1px rgba(60, 64, 67, 0.15);\n",
              "      fill: #174EA6;\n",
              "    }\n",
              "\n",
              "    [theme=dark] .colab-df-convert {\n",
              "      background-color: #3B4455;\n",
              "      fill: #D2E3FC;\n",
              "    }\n",
              "\n",
              "    [theme=dark] .colab-df-convert:hover {\n",
              "      background-color: #434B5C;\n",
              "      box-shadow: 0px 1px 3px 1px rgba(0, 0, 0, 0.15);\n",
              "      filter: drop-shadow(0px 1px 2px rgba(0, 0, 0, 0.3));\n",
              "      fill: #FFFFFF;\n",
              "    }\n",
              "  </style>\n",
              "\n",
              "      <script>\n",
              "        const buttonEl =\n",
              "          document.querySelector('#df-a5568b06-9c47-4978-8877-05f3554913b6 button.colab-df-convert');\n",
              "        buttonEl.style.display =\n",
              "          google.colab.kernel.accessAllowed ? 'block' : 'none';\n",
              "\n",
              "        async function convertToInteractive(key) {\n",
              "          const element = document.querySelector('#df-a5568b06-9c47-4978-8877-05f3554913b6');\n",
              "          const dataTable =\n",
              "            await google.colab.kernel.invokeFunction('convertToInteractive',\n",
              "                                                     [key], {});\n",
              "          if (!dataTable) return;\n",
              "\n",
              "          const docLinkHtml = 'Like what you see? Visit the ' +\n",
              "            '<a target=\"_blank\" href=https://colab.research.google.com/notebooks/data_table.ipynb>data table notebook</a>'\n",
              "            + ' to learn more about interactive tables.';\n",
              "          element.innerHTML = '';\n",
              "          dataTable['output_type'] = 'display_data';\n",
              "          await google.colab.output.renderOutput(dataTable, element);\n",
              "          const docLink = document.createElement('div');\n",
              "          docLink.innerHTML = docLinkHtml;\n",
              "          element.appendChild(docLink);\n",
              "        }\n",
              "      </script>\n",
              "    </div>\n",
              "  </div>\n",
              "  "
            ]
          },
          "metadata": {},
          "execution_count": 7
        }
      ]
    },
    {
      "cell_type": "markdown",
      "source": [
        "We are interested in plotting the altitude and the azimuth over the course of certain days. We already identified the time range as March 21, 2022 a few lines above, so let's start with that date."
      ],
      "metadata": {
        "id": "dqgz7lmDU2LA"
      }
    },
    {
      "cell_type": "code",
      "source": [
        "fig = plt.figure(figsize=(15, 15))\n",
        "plt.scatter(data['what direction would you face?'],data['how high would you look?'], marker=\"*\")\n",
        "plt.title(\"title?\")\n",
        "plt.xlabel(\"Label me!\")\n",
        "plt.ylabel(\"Me, too!\");"
      ],
      "metadata": {
        "colab": {
          "base_uri": "https://localhost:8080/",
          "height": 519
        },
        "id": "C8BDS3KSXBin",
        "outputId": "359c1b58-589e-45f5-abda-60fea079c343"
      },
      "execution_count": null,
      "outputs": [
        {
          "output_type": "error",
          "ename": "KeyError",
          "evalue": "ignored",
          "traceback": [
            "\u001b[0;31m---------------------------------------------------------------------------\u001b[0m",
            "\u001b[0;31mKeyError\u001b[0m                                  Traceback (most recent call last)",
            "\u001b[0;32m/usr/local/lib/python3.10/dist-packages/pandas/core/indexes/base.py\u001b[0m in \u001b[0;36mget_loc\u001b[0;34m(self, key, method, tolerance)\u001b[0m\n\u001b[1;32m   3801\u001b[0m             \u001b[0;32mtry\u001b[0m\u001b[0;34m:\u001b[0m\u001b[0;34m\u001b[0m\u001b[0;34m\u001b[0m\u001b[0m\n\u001b[0;32m-> 3802\u001b[0;31m                 \u001b[0;32mreturn\u001b[0m \u001b[0mself\u001b[0m\u001b[0;34m.\u001b[0m\u001b[0m_engine\u001b[0m\u001b[0;34m.\u001b[0m\u001b[0mget_loc\u001b[0m\u001b[0;34m(\u001b[0m\u001b[0mcasted_key\u001b[0m\u001b[0;34m)\u001b[0m\u001b[0;34m\u001b[0m\u001b[0;34m\u001b[0m\u001b[0m\n\u001b[0m\u001b[1;32m   3803\u001b[0m             \u001b[0;32mexcept\u001b[0m \u001b[0mKeyError\u001b[0m \u001b[0;32mas\u001b[0m \u001b[0merr\u001b[0m\u001b[0;34m:\u001b[0m\u001b[0;34m\u001b[0m\u001b[0;34m\u001b[0m\u001b[0m\n",
            "\u001b[0;32m/usr/local/lib/python3.10/dist-packages/pandas/_libs/index.pyx\u001b[0m in \u001b[0;36mpandas._libs.index.IndexEngine.get_loc\u001b[0;34m()\u001b[0m\n",
            "\u001b[0;32m/usr/local/lib/python3.10/dist-packages/pandas/_libs/index.pyx\u001b[0m in \u001b[0;36mpandas._libs.index.IndexEngine.get_loc\u001b[0;34m()\u001b[0m\n",
            "\u001b[0;32mpandas/_libs/hashtable_class_helper.pxi\u001b[0m in \u001b[0;36mpandas._libs.hashtable.PyObjectHashTable.get_item\u001b[0;34m()\u001b[0m\n",
            "\u001b[0;32mpandas/_libs/hashtable_class_helper.pxi\u001b[0m in \u001b[0;36mpandas._libs.hashtable.PyObjectHashTable.get_item\u001b[0;34m()\u001b[0m\n",
            "\u001b[0;31mKeyError\u001b[0m: 'what direction would you face?'",
            "\nThe above exception was the direct cause of the following exception:\n",
            "\u001b[0;31mKeyError\u001b[0m                                  Traceback (most recent call last)",
            "\u001b[0;32m<ipython-input-8-3658c5f9e76e>\u001b[0m in \u001b[0;36m<cell line: 2>\u001b[0;34m()\u001b[0m\n\u001b[1;32m      1\u001b[0m \u001b[0mfig\u001b[0m \u001b[0;34m=\u001b[0m \u001b[0mplt\u001b[0m\u001b[0;34m.\u001b[0m\u001b[0mfigure\u001b[0m\u001b[0;34m(\u001b[0m\u001b[0mfigsize\u001b[0m\u001b[0;34m=\u001b[0m\u001b[0;34m(\u001b[0m\u001b[0;36m15\u001b[0m\u001b[0;34m,\u001b[0m \u001b[0;36m15\u001b[0m\u001b[0;34m)\u001b[0m\u001b[0;34m)\u001b[0m\u001b[0;34m\u001b[0m\u001b[0;34m\u001b[0m\u001b[0m\n\u001b[0;32m----> 2\u001b[0;31m \u001b[0mplt\u001b[0m\u001b[0;34m.\u001b[0m\u001b[0mscatter\u001b[0m\u001b[0;34m(\u001b[0m\u001b[0mdata\u001b[0m\u001b[0;34m[\u001b[0m\u001b[0;34m'what direction would you face?'\u001b[0m\u001b[0;34m]\u001b[0m\u001b[0;34m,\u001b[0m\u001b[0mdata\u001b[0m\u001b[0;34m[\u001b[0m\u001b[0;34m'how high would you look?'\u001b[0m\u001b[0;34m]\u001b[0m\u001b[0;34m,\u001b[0m \u001b[0mmarker\u001b[0m\u001b[0;34m=\u001b[0m\u001b[0;34m\"*\"\u001b[0m\u001b[0;34m)\u001b[0m\u001b[0;34m\u001b[0m\u001b[0;34m\u001b[0m\u001b[0m\n\u001b[0m\u001b[1;32m      3\u001b[0m \u001b[0mplt\u001b[0m\u001b[0;34m.\u001b[0m\u001b[0mtitle\u001b[0m\u001b[0;34m(\u001b[0m\u001b[0;34m\"title?\"\u001b[0m\u001b[0;34m)\u001b[0m\u001b[0;34m\u001b[0m\u001b[0;34m\u001b[0m\u001b[0m\n\u001b[1;32m      4\u001b[0m \u001b[0mplt\u001b[0m\u001b[0;34m.\u001b[0m\u001b[0mxlabel\u001b[0m\u001b[0;34m(\u001b[0m\u001b[0;34m\"Label me!\"\u001b[0m\u001b[0;34m)\u001b[0m\u001b[0;34m\u001b[0m\u001b[0;34m\u001b[0m\u001b[0m\n\u001b[1;32m      5\u001b[0m \u001b[0mplt\u001b[0m\u001b[0;34m.\u001b[0m\u001b[0mylabel\u001b[0m\u001b[0;34m(\u001b[0m\u001b[0;34m\"Me, too!\"\u001b[0m\u001b[0;34m)\u001b[0m\u001b[0;34m;\u001b[0m\u001b[0;34m\u001b[0m\u001b[0;34m\u001b[0m\u001b[0m\n",
            "\u001b[0;32m/usr/local/lib/python3.10/dist-packages/pandas/core/frame.py\u001b[0m in \u001b[0;36m__getitem__\u001b[0;34m(self, key)\u001b[0m\n\u001b[1;32m   3805\u001b[0m             \u001b[0;32mif\u001b[0m \u001b[0mself\u001b[0m\u001b[0;34m.\u001b[0m\u001b[0mcolumns\u001b[0m\u001b[0;34m.\u001b[0m\u001b[0mnlevels\u001b[0m \u001b[0;34m>\u001b[0m \u001b[0;36m1\u001b[0m\u001b[0;34m:\u001b[0m\u001b[0;34m\u001b[0m\u001b[0;34m\u001b[0m\u001b[0m\n\u001b[1;32m   3806\u001b[0m                 \u001b[0;32mreturn\u001b[0m \u001b[0mself\u001b[0m\u001b[0;34m.\u001b[0m\u001b[0m_getitem_multilevel\u001b[0m\u001b[0;34m(\u001b[0m\u001b[0mkey\u001b[0m\u001b[0;34m)\u001b[0m\u001b[0;34m\u001b[0m\u001b[0;34m\u001b[0m\u001b[0m\n\u001b[0;32m-> 3807\u001b[0;31m             \u001b[0mindexer\u001b[0m \u001b[0;34m=\u001b[0m \u001b[0mself\u001b[0m\u001b[0;34m.\u001b[0m\u001b[0mcolumns\u001b[0m\u001b[0;34m.\u001b[0m\u001b[0mget_loc\u001b[0m\u001b[0;34m(\u001b[0m\u001b[0mkey\u001b[0m\u001b[0;34m)\u001b[0m\u001b[0;34m\u001b[0m\u001b[0;34m\u001b[0m\u001b[0m\n\u001b[0m\u001b[1;32m   3808\u001b[0m             \u001b[0;32mif\u001b[0m \u001b[0mis_integer\u001b[0m\u001b[0;34m(\u001b[0m\u001b[0mindexer\u001b[0m\u001b[0;34m)\u001b[0m\u001b[0;34m:\u001b[0m\u001b[0;34m\u001b[0m\u001b[0;34m\u001b[0m\u001b[0m\n\u001b[1;32m   3809\u001b[0m                 \u001b[0mindexer\u001b[0m \u001b[0;34m=\u001b[0m \u001b[0;34m[\u001b[0m\u001b[0mindexer\u001b[0m\u001b[0;34m]\u001b[0m\u001b[0;34m\u001b[0m\u001b[0;34m\u001b[0m\u001b[0m\n",
            "\u001b[0;32m/usr/local/lib/python3.10/dist-packages/pandas/core/indexes/base.py\u001b[0m in \u001b[0;36mget_loc\u001b[0;34m(self, key, method, tolerance)\u001b[0m\n\u001b[1;32m   3802\u001b[0m                 \u001b[0;32mreturn\u001b[0m \u001b[0mself\u001b[0m\u001b[0;34m.\u001b[0m\u001b[0m_engine\u001b[0m\u001b[0;34m.\u001b[0m\u001b[0mget_loc\u001b[0m\u001b[0;34m(\u001b[0m\u001b[0mcasted_key\u001b[0m\u001b[0;34m)\u001b[0m\u001b[0;34m\u001b[0m\u001b[0;34m\u001b[0m\u001b[0m\n\u001b[1;32m   3803\u001b[0m             \u001b[0;32mexcept\u001b[0m \u001b[0mKeyError\u001b[0m \u001b[0;32mas\u001b[0m \u001b[0merr\u001b[0m\u001b[0;34m:\u001b[0m\u001b[0;34m\u001b[0m\u001b[0;34m\u001b[0m\u001b[0m\n\u001b[0;32m-> 3804\u001b[0;31m                 \u001b[0;32mraise\u001b[0m \u001b[0mKeyError\u001b[0m\u001b[0;34m(\u001b[0m\u001b[0mkey\u001b[0m\u001b[0;34m)\u001b[0m \u001b[0;32mfrom\u001b[0m \u001b[0merr\u001b[0m\u001b[0;34m\u001b[0m\u001b[0;34m\u001b[0m\u001b[0m\n\u001b[0m\u001b[1;32m   3805\u001b[0m             \u001b[0;32mexcept\u001b[0m \u001b[0mTypeError\u001b[0m\u001b[0;34m:\u001b[0m\u001b[0;34m\u001b[0m\u001b[0;34m\u001b[0m\u001b[0m\n\u001b[1;32m   3806\u001b[0m                 \u001b[0;31m# If we have a listlike key, _check_indexing_error will raise\u001b[0m\u001b[0;34m\u001b[0m\u001b[0;34m\u001b[0m\u001b[0m\n",
            "\u001b[0;31mKeyError\u001b[0m: 'what direction would you face?'"
          ]
        },
        {
          "output_type": "display_data",
          "data": {
            "text/plain": [
              "<Figure size 1500x1500 with 0 Axes>"
            ]
          },
          "metadata": {}
        }
      ]
    },
    {
      "cell_type": "markdown",
      "source": [
        "Something to think about...what does a negative elevation mean?\n",
        "\n",
        "To remove this data, add the following code to a code box just before the code that creates the plot.\n",
        "\n",
        "data = data.loc[data['apparent_elevation'] > 0, :]"
      ],
      "metadata": {
        "id": "obe-WA8Ug13-"
      }
    },
    {
      "cell_type": "markdown",
      "source": [
        "**Assignment 1**\n",
        "\n",
        "Here we have plotted the Sun's position as viewed from Council Grove on March 21. Go back and add the Sun's position for Jun 21, September 21, and December 21."
      ],
      "metadata": {
        "id": "a6T0RTLihmV5"
      }
    },
    {
      "cell_type": "markdown",
      "source": [
        "**Assignment 2**\n",
        "\n",
        "On a separate plot for each, plot the Sun's position as viewed from the other seven locations on March 21, Jun 21, September 21, and December 21."
      ],
      "metadata": {
        "id": "4ufdyz87h_MV"
      }
    },
    {
      "cell_type": "markdown",
      "source": [
        "**Challenge**\n",
        "\n",
        "Plot the Sun's position at noon as viewed from one location over the course of one year."
      ],
      "metadata": {
        "id": "mbyrrFEwjuZx"
      }
    }
  ]
}