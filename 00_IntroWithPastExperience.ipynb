{
  "cells": [
    {
      "cell_type": "markdown",
      "source": [
        "#Introduction to Colab\n",
        "In this activity, you will be introduced to different ways we can use Colab to visualize data.\n",
        "\n",
        "To get started,\n",
        "\n",
        "- You won't hurt anything by experimenting. If you break it, close the tab and open the activity again to start over.\n",
        "\n",
        "- Is this your first time? Need a refresher? Try the 5-minute [Intro to Coding activity](https://colab.research.google.com/github/adamlamee/CODINGinK12/blob/master/notebooks/intro.ipynb) activity and come back here.\n",
        "\n",
        "When you're ready, run each code cell until you get down to the next text cell."
      ],
      "metadata": {
        "id": "FbPnZf-tXHA4"
      }
    },
    {
      "cell_type": "markdown",
      "source": [
        "Each block is different functions we need to accomplish our goals. Anything in green that follows a # isn't read by the computer. These are comments to help humans understand what that line of code is doing. Click the play sign to run the line of code. Some of the code is written incorrectly. Some has info you need to change. Look for comments to help!"
      ],
      "metadata": {
        "id": "phAvwUfkZaIj"
      }
    },
    {
      "cell_type": "markdown",
      "source": [
        "# Functions in Colab\n",
        "Start with some basic Colab functions.\n",
        "\n",
        "This type of output can be helpful when we want to create a theoretical model.\n",
        "\n",
        "Built in Python functions\n",
        "https://docs.python.org/3/library/functions.html"
      ],
      "metadata": {
        "id": "S-2oeZ3HKKt2"
      }
    },
    {
      "cell_type": "code",
      "source": [
        "#create the function that you want to model\n",
        "def func(x):\n",
        "  return x+7\n",
        "\n",
        "#Give a value to x in the function\n",
        "func(9)\n",
        "\n",
        "#Add learning check to write new function"
      ],
      "metadata": {
        "id": "Tp3YkPgBKYcC",
        "outputId": "acbbbbe4-2cc3-4ecc-e74a-261c7f618b6c",
        "colab": {
          "base_uri": "https://localhost:8080/"
        }
      },
      "execution_count": null,
      "outputs": [
        {
          "output_type": "execute_result",
          "data": {
            "text/plain": [
              "16"
            ]
          },
          "metadata": {},
          "execution_count": 1
        }
      ]
    },
    {
      "cell_type": "markdown",
      "source": [
        "##Create interactive objects like a slider or textbox\n",
        "\n",
        "The Python language can do some math by itself. To do more complex tasks, we have to import other software called *modules*.\n",
        "\n",
        "For this, we need to import a couple of libraries.\n",
        "\n",
        "\n",
        "Documentation: https://ipywidgets.readthedocs.io/en/latest/examples/Widget%20Basics.html"
      ],
      "metadata": {
        "id": "1q89cvLiclW1"
      }
    },
    {
      "cell_type": "code",
      "source": [
        "#To use the widget framework, you need to import ipywidgets\n",
        "#widget modules\n",
        "from ipywidgets import interact, interactive\n",
        "import ipywidgets as widgets"
      ],
      "metadata": {
        "id": "fvPgya4LSKH5"
      },
      "execution_count": null,
      "outputs": []
    },
    {
      "cell_type": "code",
      "source": [
        "  #Create a slider for our function. Return y value for the function. pass in the function and x value\n",
        "interact(func, x=100)"
      ],
      "metadata": {
        "id": "rs1hxBakdZir",
        "colab": {
          "base_uri": "https://localhost:8080/",
          "height": 84,
          "referenced_widgets": [
            "3cffb39a8a8148d196d735af06fae02a",
            "a24983f3e9de4ee0b88362742869be8f",
            "0106dd9267fd4744a1621153a1119ea4",
            "db8cd17aa9f44b8f83e994f16ab01cf0",
            "a71b65e32e934246ab5e988d4b821307",
            "fdcdb3eb7b5a458d98b3398d74814f9a",
            "1f4fc6e05bcd4791b99d7cd97e7ce9a7"
          ]
        },
        "outputId": "7f0f36a5-6b63-42ca-ccf2-9a8b61552a50"
      },
      "execution_count": null,
      "outputs": [
        {
          "output_type": "display_data",
          "data": {
            "text/plain": [
              "interactive(children=(IntSlider(value=0, description='x', max=1), Output()), _dom_classes=('widget-interact',)…"
            ],
            "application/vnd.jupyter.widget-view+json": {
              "version_major": 2,
              "version_minor": 0,
              "model_id": "3cffb39a8a8148d196d735af06fae02a"
            }
          },
          "metadata": {}
        },
        {
          "output_type": "execute_result",
          "data": {
            "text/plain": [
              "<function __main__.func(x)>"
            ]
          },
          "metadata": {},
          "execution_count": 11
        }
      ]
    },
    {
      "cell_type": "markdown",
      "metadata": {
        "id": "FwyeEp0CHafA"
      },
      "source": [
        "**Learning Check!**\n",
        "\n",
        "*What does the \"x = 100\" mean? Change the value to find a pattern.\n",
        "\n",
        "*Add a semi-colon to the end of the code and replay."
      ]
    },
    {
      "cell_type": "markdown",
      "source": [
        "##What if you have a function with more than one variable?"
      ],
      "metadata": {
        "id": "jfw5Kzj0fakS"
      }
    },
    {
      "cell_type": "code",
      "source": [
        "def multivariate_func(x,y):\n",
        "  return 2*y + 3*x + 4\n",
        "\n",
        "\n",
        "interact(multivariate_func, x=15, y=5);"
      ],
      "metadata": {
        "id": "aNeG75kAfmqQ"
      },
      "execution_count": null,
      "outputs": []
    },
    {
      "cell_type": "markdown",
      "source": [
        "##Interactive Graphs\n",
        "\n",
        "For graphing, we are going to need a few more libraries.\n",
        "\n",
        "  **pandas** is an open source, BSD-licensed library providing high-performance, easy-to-use data structures and data analysis tools for the Python programming language\n",
        "# [pandas Documentation](https://pandas.pydata.org/docs/user_guide/index.html)\n",
        "\n",
        "**numpy** is a library for the Python programming language, adding support for large, multi-dimensional arrays and matrices, along with a large collection of high-level mathematical functions to operate on these arrays.\n",
        "# [numpy Documentation](https://numpy.org/doc/stable/)\n",
        "\n",
        "\n",
        " **matplotlib** is a plotting library for the Python programming language and its numerical mathematics extension NumPy. It provides an object-oriented API for embedding plots into applications\n",
        "\n",
        "# [matplotlib Documentation](https://matplotlib.org/stable/contents.html)"
      ],
      "metadata": {
        "id": "BxhvivgdhqkB"
      }
    },
    {
      "cell_type": "code",
      "source": [
        "# imports some software packages we'll use. Nothing here needs to be changed. Hit the play button!\n",
        "import pandas as pd # Pandas works with python to help us wrangle data. It can sort, clean, and read our csv files. csv files are how we input data\n",
        "import numpy as np # Numpy handles the math!\n",
        "import matplotlib as mpl\n",
        "import matplotlib.pyplot as plt # Both of these help us make pretty graphs"
      ],
      "metadata": {
        "id": "ldFMIhsrdHJh"
      },
      "execution_count": null,
      "outputs": []
    },
    {
      "cell_type": "markdown",
      "metadata": {
        "id": "f0WQ3KYvnhvy"
      },
      "source": [
        "**Learning Check!**\n",
        "\n",
        "Notice that we are importing each library as something else. Why do you think we are doing that?"
      ]
    },
    {
      "cell_type": "code",
      "source": [
        "#define the function you want to graph. Use linear_func for a linear graph or model_func for non-linear\n",
        "\n",
        "#this function takes two inputs, slope and intercept that we will be able to change with sliders\n",
        "def linear_func(slope, intercept):\n",
        "  plt.figure(2)\n",
        "\n",
        "  x=np.linspace(-10, 10, num=500) #x axis starts at -10 and end at 10 with 500 spaces in between\n",
        "  plt.ylim(-10, 10) #y-axis values\n",
        "  plt.axvline(color='black') #y axis zero line colors black\n",
        "  plt.axhline(color='black') #x axis zero line colors black\n",
        "  plt.plot(x, slope*x + intercept, lw=5, color='red') #plots the linear function with a red line weight of 5\n",
        "  plt.grid()\n",
        "  plt.title(\"I'm a title\")\n",
        "  plt.xlabel(\"Fix Me\")\n",
        "  plt.ylabel(\"Me Too!\");\n",
        "  plt.show()\n",
        "\n",
        "#create interactive plot variable, call it interactive, take in the linear function.\n",
        "#Give slope the values you want to change on the slider. Giving values as x.x will input it as a float and you can implement values other than whole numbers on the slider\n",
        "\n",
        "interactive_plot = interactive(linear_func, slope=(-5,5), intercept=(-5, 5))\n",
        "output=interactive_plot.children[-1]\n",
        "interactive_plot"
      ],
      "metadata": {
        "id": "8STLtr1aiHyM"
      },
      "execution_count": null,
      "outputs": []
    },
    {
      "cell_type": "markdown",
      "metadata": {
        "id": "R7DIgLQqgEGy"
      },
      "source": [
        "**Learning Check!**\n",
        "\n",
        "What title did you give your graph and axes? What influenced that choice?"
      ]
    },
    {
      "cell_type": "code",
      "source": [
        "#this function takes two inputs, slope and intercept that we will be able to change with sliders\n",
        "def nonlinear_func(slope, intercept):\n",
        "  plt.figure(2)\n",
        "\n",
        "  x=np.linspace(-10, 10, num=500) #x axis starts at -10 and end at 10 with 500 spaces in between\n",
        "  plt.ylim(-10, 10) #y-axis values\n",
        "  plt.axvline(color='black') #y axis zero line colors black\n",
        "  plt.axhline(color='black') #x axis zero line colors black\n",
        "  plt.plot(x, x**2 + slope*x + intercept, lw=5, color='green') #plots the linear function with a red line weight of 5\n",
        "  plt.grid()\n",
        "  plt.title(\"I'm a title\")\n",
        "  plt.xlabel(\"Fix Me\")\n",
        "  plt.ylabel(\"Me Too!\")\n",
        "  plt.show()\n",
        "\n",
        "#create interactive plot variable, call it interactive, take in the linear function.\n",
        "#Give slope the values you want to change on the slider. Giving values as x.x will input it as a float and you can implement values other than whole numbers on the slider\n",
        "\n",
        "interactive_plot = interactive(nonlinear_func, slope=(-5,5), intercept=(-5, 5))\n",
        "output=interactive_plot.children[-1]\n",
        "interactive_plot"
      ],
      "metadata": {
        "id": "gs-hF7Q9pUGL"
      },
      "execution_count": null,
      "outputs": []
    },
    {
      "cell_type": "markdown",
      "source": [
        "#Take a break now! You've earned it!"
      ],
      "metadata": {
        "id": "gZbH77lRetNl"
      }
    },
    {
      "cell_type": "markdown",
      "metadata": {
        "id": "QSMmdrrVLZ-N"
      },
      "source": [
        "# Charts in Colab\n",
        "\n",
        "A common use for notebooks is data visualization using charts. Colab makes this easy with several charting tools available as Python imports."
      ]
    },
    {
      "cell_type": "markdown",
      "metadata": {
        "id": "WALI8x49GUpe"
      },
      "source": [
        "### Line Plots\n",
        "\n",
        "One way to show the frequency of certain events is to use a line plot."
      ]
    },
    {
      "cell_type": "code",
      "execution_count": null,
      "metadata": {
        "id": "08RTGn_xE3MP"
      },
      "outputs": [],
      "source": [
        "x  = [1, 2, 3, 4, 5, 6, 7, 8, 9]\n",
        "y1 = [1, 3, 5, 3, 1, 3, 5, 3, 1]\n",
        "y2 = [2, 4, 6, 4, 2, 4, 6, 4, 2]\n",
        "plt.plot(x, y1, label=\"line L\") #plt.plot is the command that puts the data points on to the Graph\n",
        "#add a line that plots the y2 data on the same graph\n",
        "plt.plot(x, y2, label=\"line H\")\n",
        "plt.plot()\n",
        "\n",
        "plt.xlabel(\"x axis\")\n",
        "plt.ylabel(\"y axis\")\n",
        "plt.title(\"Line Graph Example\")\n",
        "plt.legend()\n",
        "plt.show()"
      ]
    },
    {
      "cell_type": "code",
      "source": [
        "#Add code here to build a chart that draws your initials"
      ],
      "metadata": {
        "id": "D9RNIJzzRn-6"
      },
      "execution_count": null,
      "outputs": []
    },
    {
      "cell_type": "markdown",
      "metadata": {
        "id": "YQO2Lw8Xdu7x"
      },
      "source": [
        "### Histograms\n",
        "Line plots are nice, but histograms are really where it's at. This chart allows us to change our view of the data in a lot more ways."
      ]
    },
    {
      "cell_type": "code",
      "execution_count": null,
      "metadata": {
        "cellView": "both",
        "id": "SZ-DMbnPMbMY"
      },
      "outputs": [],
      "source": [
        "# Use numpy to generate a bunch of random data in a bell curve around 5.\n",
        "n = 5 + np.random.randn(1000)\n",
        "\n",
        "n #shows all the numbers that have been generated"
      ]
    },
    {
      "cell_type": "code",
      "source": [
        "#plot the distribution of the generated numbers\n",
        "plt.hist(n, bins=20, range=None)\n",
        "plt.title(\"Histogram\")\n",
        "plt.show()"
      ],
      "metadata": {
        "id": "YBTsdoagIJSs"
      },
      "execution_count": null,
      "outputs": []
    },
    {
      "cell_type": "markdown",
      "metadata": {
        "id": "J7n94fnCI6nq"
      },
      "source": [
        "**Learning Check!**\n",
        "\n",
        "*Try changing the number of bins to 10. How does that change each peak location? How does it change the number of events for each bin?\n",
        "\n",
        "*Go back up and edit the number generator from \"5 +\" to \"8 +\". What changes about the histogram?"
      ]
    },
    {
      "cell_type": "markdown",
      "source": [
        "####Penny Mass Plot\n",
        "\n",
        "Histograms are a great way to find patterns in large data sets."
      ],
      "metadata": {
        "id": "b3vs4pRrmJ3O"
      }
    },
    {
      "cell_type": "code",
      "source": [
        "#Import information on the mass of pennies made in different years and at different mints from the \"Penny Mass Data Set.csv\".\n",
        "data = pd.read_csv(\"https://github.com/tracieschroeder/CodingCamp/raw/main/Penny_Mass_Data_Set.csv\")"
      ],
      "metadata": {
        "id": "lk53qFUMlx4g"
      },
      "execution_count": null,
      "outputs": []
    },
    {
      "cell_type": "markdown",
      "metadata": {
        "id": "weCCCgy7m2fi"
      },
      "source": [
        "**Learning Check!**\n",
        "\n",
        "Look closely at that line of code.\n",
        "\n",
        "What does each word tell the computer?\n",
        "\n",
        "Which library are we using to read the data?"
      ]
    },
    {
      "cell_type": "markdown",
      "source": [
        "Where is our data? Why can't we see anything?\n",
        "\n",
        "We haven't told the computer to print it yet. Remove the hashtag below and play that cell."
      ],
      "metadata": {
        "id": "DDUKbszDoQwk"
      }
    },
    {
      "cell_type": "code",
      "source": [
        "#data"
      ],
      "metadata": {
        "id": "cXlQzs7BobGY"
      },
      "execution_count": null,
      "outputs": []
    },
    {
      "cell_type": "markdown",
      "source": [
        "That is a lot of data. Click on the sparkly wand in the top corner and it will let you see each row of data.\n",
        "\n",
        "We can also tell it to print just a few lines. Add a code box below with the command **data.head(5)**.\n",
        "\n",
        "What happens to our data table? How could you get 10 lines of data?"
      ],
      "metadata": {
        "id": "BmhifGR_ojMD"
      }
    },
    {
      "cell_type": "code",
      "source": [
        "data.head(5)"
      ],
      "metadata": {
        "id": "ysSPPjA7nnmw"
      },
      "execution_count": null,
      "outputs": []
    },
    {
      "cell_type": "markdown",
      "source": [
        "Matplotlib is the library we are going to use to create a histgram of our penny data.\n",
        "\n",
        "Play the code box below. There is a nice little informational box that will pop up and let you know what we need to add to the box in order to create our histogram.\n",
        "\n",
        "The important ones are the first three (x, bins=None, range=None)\n"
      ],
      "metadata": {
        "id": "9IlsEX_tpfs_"
      }
    },
    {
      "cell_type": "code",
      "source": [
        "plt.hist\n",
        "#Remove inside the parentheses for student version"
      ],
      "metadata": {
        "id": "IhQnXju4poBy"
      },
      "execution_count": null,
      "outputs": []
    },
    {
      "cell_type": "markdown",
      "source": [
        "Notice that this still doesn't create a histogram for us so we need to define a few things here.\n",
        "\n",
        "First, what do we want to actually graph? There are a few options. If we go back up to our data table, we have three columns. Year, Mass, Mint. We could plot any of these, but for this round, let's go with Mass. Instead of \"x\", we are going to pull from our \"data\" csv file and the Mass column. Delete the \"x\" and type in \"data.['Mass']\n",
        "\n",
        "plt defaults to 10 bins. You can change this to any number, but 10 is typically a good place to start. Delete \"bins-None\" and type in \"10\" (no quotation marks!).\n",
        "\n",
        "For range, you can also change it if you like, but for now, leave it as it is."
      ],
      "metadata": {
        "id": "HpGBSINUqwNy"
      }
    },
    {
      "cell_type": "code",
      "source": [
        "plt.hist(data[x], bins=50, range=None)"
      ],
      "metadata": {
        "id": "Sam02J60r4Nv"
      },
      "execution_count": null,
      "outputs": []
    },
    {
      "cell_type": "markdown",
      "metadata": {
        "id": "Yz8AzHw9KBvR"
      },
      "source": [
        "**Learning Check!**\n",
        "\n",
        "*Try changing the number of bins to 20. How does that change each peak location? How does it change the number of events for each bin?\n",
        "\n",
        "*You can also set the range for a specific set of values. For example, change \"None\" to \"[2,2.7]\""
      ]
    },
    {
      "cell_type": "markdown",
      "source": [
        "#Take a break now! You've earned it!"
      ],
      "metadata": {
        "id": "YLLsuw7apgBL"
      }
    },
    {
      "cell_type": "markdown",
      "metadata": {
        "id": "9-CelVUmdz8r"
      },
      "source": [
        "### Scatter Plots\n",
        "\n",
        "A good number of the graphs that we create in science are scatter plots."
      ]
    },
    {
      "cell_type": "code",
      "execution_count": null,
      "metadata": {
        "id": "79C7jc9mv-Ji"
      },
      "outputs": [],
      "source": [
        "#Build a graph with one variable plotted against a single independent variable or two variables plotted against a single independent.\n",
        "\n",
        "x1 = [2, 3, 4]\n",
        "y1 = [5, 5, 5]\n",
        "\n",
        "x2 = [1, 2, 3, 4, 5]\n",
        "y2 = [2, 3, 4, 5, 6]\n",
        "#Add a line here to add a \"y3\" variable that will plot with the x2 variable. Make the data such that the slope is steeper than the y2 slope.\n",
        "\n",
        "\n",
        "plt.scatter(x1, y1)\n",
        "plt.scatter(x2, y2, marker='v', color='r')\n",
        "#add a line that will plot the y3 variable with the x2 variable on the same graph\n",
        "#Change the markers to a custom point: https://matplotlib.org/api/markers_api.html\n",
        "\n",
        "plt.title('Scatter Plot Example')\n",
        "\n",
        "plt.show()\n",
        "\n"
      ]
    },
    {
      "cell_type": "markdown",
      "metadata": {
        "id": "nAF5VJzMqE0K"
      },
      "source": [
        "**Learning Check!**\n",
        "\n",
        "*Add a line here to add a \"y3\" variable that will plot with the x2 variable. Make the data such that the slope is steeper than the y2 slope.\n",
        "\n",
        "*Add axes labels and grid lines to the graph. Hint: We have done a graph today that does this."
      ]
    },
    {
      "cell_type": "markdown",
      "source": [
        "####Some other ways to use scatter plots"
      ],
      "metadata": {
        "id": "7JROV4HRlTjn"
      }
    },
    {
      "cell_type": "markdown",
      "source": [
        "Chart the position of the Sun [Link](https://colab.research.google.com/drive/1U6fLCEhvJ8NWuoKEJwHvWOKJb6mmUrTn?usp=share_link)\n",
        "\n",
        "Plot the patterns of sunspots [Link](https://colab.research.google.com/github/QuarkNet-HEP/coding-camp/blob/main/Sunspots.ipynb)\n",
        "\n",
        "Compare properties of the elements [Link](https://colab.research.google.com/drive/1YVEOtobedgwjVZDfW9vRf5nQq5-Y0DWj?usp=share_link)"
      ],
      "metadata": {
        "id": "ND9qdNDNlYyc"
      }
    },
    {
      "cell_type": "markdown",
      "metadata": {
        "id": "quyxu_BRP3Jz"
      },
      "source": [
        "---\n",
        "## Saving Your Work\n",
        "This is running on a Google server on a distant planet and deletes what you've done when you close this tab. To save your work for later use or analysis you have a few options:\n",
        "- File > \"Save a copy in Drive\" will save it to you Google Drive in a folder called \"Colab Notebooks\". You can run it later from there.\n",
        "- File > \"Save a copy in GitHub\" will save it to your GitHub account and can be opened in Colab later using File > Open > Github.\n",
        "- File > \"Download .ipynb\" to save to your computer (and run with Jupyter software later)\n",
        "- File > Print to ... um ... print.\n",
        "- To save an image of a graph or chart, right-click on it and select Save Image as ...\n",
        "\n",
        "## Credits\n",
        "This notebook was designed by Tracie Schroeder, developed for a Quarknet coding activity at Rice University."
      ]
    }
  ],
  "metadata": {
    "colab": {
      "provenance": []
    },
    "kernelspec": {
      "display_name": "Python 3",
      "name": "python3"
    },
    "widgets": {
      "application/vnd.jupyter.widget-state+json": {
        "3cffb39a8a8148d196d735af06fae02a": {
          "model_module": "@jupyter-widgets/controls",
          "model_name": "VBoxModel",
          "model_module_version": "1.5.0",
          "state": {
            "_dom_classes": [
              "widget-interact"
            ],
            "_model_module": "@jupyter-widgets/controls",
            "_model_module_version": "1.5.0",
            "_model_name": "VBoxModel",
            "_view_count": null,
            "_view_module": "@jupyter-widgets/controls",
            "_view_module_version": "1.5.0",
            "_view_name": "VBoxView",
            "box_style": "",
            "children": [
              "IPY_MODEL_a24983f3e9de4ee0b88362742869be8f",
              "IPY_MODEL_0106dd9267fd4744a1621153a1119ea4"
            ],
            "layout": "IPY_MODEL_db8cd17aa9f44b8f83e994f16ab01cf0"
          }
        },
        "a24983f3e9de4ee0b88362742869be8f": {
          "model_module": "@jupyter-widgets/controls",
          "model_name": "IntSliderModel",
          "model_module_version": "1.5.0",
          "state": {
            "_dom_classes": [],
            "_model_module": "@jupyter-widgets/controls",
            "_model_module_version": "1.5.0",
            "_model_name": "IntSliderModel",
            "_view_count": null,
            "_view_module": "@jupyter-widgets/controls",
            "_view_module_version": "1.5.0",
            "_view_name": "IntSliderView",
            "continuous_update": true,
            "description": "x",
            "description_tooltip": null,
            "disabled": false,
            "layout": "IPY_MODEL_a71b65e32e934246ab5e988d4b821307",
            "max": 1,
            "min": 0,
            "orientation": "horizontal",
            "readout": true,
            "readout_format": "d",
            "step": 1,
            "style": "IPY_MODEL_fdcdb3eb7b5a458d98b3398d74814f9a",
            "value": 0
          }
        },
        "0106dd9267fd4744a1621153a1119ea4": {
          "model_module": "@jupyter-widgets/output",
          "model_name": "OutputModel",
          "model_module_version": "1.0.0",
          "state": {
            "_dom_classes": [],
            "_model_module": "@jupyter-widgets/output",
            "_model_module_version": "1.0.0",
            "_model_name": "OutputModel",
            "_view_count": null,
            "_view_module": "@jupyter-widgets/output",
            "_view_module_version": "1.0.0",
            "_view_name": "OutputView",
            "layout": "IPY_MODEL_1f4fc6e05bcd4791b99d7cd97e7ce9a7",
            "msg_id": "",
            "outputs": [
              {
                "output_type": "display_data",
                "data": {
                  "text/plain": "7"
                },
                "metadata": {}
              }
            ]
          }
        },
        "db8cd17aa9f44b8f83e994f16ab01cf0": {
          "model_module": "@jupyter-widgets/base",
          "model_name": "LayoutModel",
          "model_module_version": "1.2.0",
          "state": {
            "_model_module": "@jupyter-widgets/base",
            "_model_module_version": "1.2.0",
            "_model_name": "LayoutModel",
            "_view_count": null,
            "_view_module": "@jupyter-widgets/base",
            "_view_module_version": "1.2.0",
            "_view_name": "LayoutView",
            "align_content": null,
            "align_items": null,
            "align_self": null,
            "border": null,
            "bottom": null,
            "display": null,
            "flex": null,
            "flex_flow": null,
            "grid_area": null,
            "grid_auto_columns": null,
            "grid_auto_flow": null,
            "grid_auto_rows": null,
            "grid_column": null,
            "grid_gap": null,
            "grid_row": null,
            "grid_template_areas": null,
            "grid_template_columns": null,
            "grid_template_rows": null,
            "height": null,
            "justify_content": null,
            "justify_items": null,
            "left": null,
            "margin": null,
            "max_height": null,
            "max_width": null,
            "min_height": null,
            "min_width": null,
            "object_fit": null,
            "object_position": null,
            "order": null,
            "overflow": null,
            "overflow_x": null,
            "overflow_y": null,
            "padding": null,
            "right": null,
            "top": null,
            "visibility": null,
            "width": null
          }
        },
        "a71b65e32e934246ab5e988d4b821307": {
          "model_module": "@jupyter-widgets/base",
          "model_name": "LayoutModel",
          "model_module_version": "1.2.0",
          "state": {
            "_model_module": "@jupyter-widgets/base",
            "_model_module_version": "1.2.0",
            "_model_name": "LayoutModel",
            "_view_count": null,
            "_view_module": "@jupyter-widgets/base",
            "_view_module_version": "1.2.0",
            "_view_name": "LayoutView",
            "align_content": null,
            "align_items": null,
            "align_self": null,
            "border": null,
            "bottom": null,
            "display": null,
            "flex": null,
            "flex_flow": null,
            "grid_area": null,
            "grid_auto_columns": null,
            "grid_auto_flow": null,
            "grid_auto_rows": null,
            "grid_column": null,
            "grid_gap": null,
            "grid_row": null,
            "grid_template_areas": null,
            "grid_template_columns": null,
            "grid_template_rows": null,
            "height": null,
            "justify_content": null,
            "justify_items": null,
            "left": null,
            "margin": null,
            "max_height": null,
            "max_width": null,
            "min_height": null,
            "min_width": null,
            "object_fit": null,
            "object_position": null,
            "order": null,
            "overflow": null,
            "overflow_x": null,
            "overflow_y": null,
            "padding": null,
            "right": null,
            "top": null,
            "visibility": null,
            "width": null
          }
        },
        "fdcdb3eb7b5a458d98b3398d74814f9a": {
          "model_module": "@jupyter-widgets/controls",
          "model_name": "SliderStyleModel",
          "model_module_version": "1.5.0",
          "state": {
            "_model_module": "@jupyter-widgets/controls",
            "_model_module_version": "1.5.0",
            "_model_name": "SliderStyleModel",
            "_view_count": null,
            "_view_module": "@jupyter-widgets/base",
            "_view_module_version": "1.2.0",
            "_view_name": "StyleView",
            "description_width": "",
            "handle_color": null
          }
        },
        "1f4fc6e05bcd4791b99d7cd97e7ce9a7": {
          "model_module": "@jupyter-widgets/base",
          "model_name": "LayoutModel",
          "model_module_version": "1.2.0",
          "state": {
            "_model_module": "@jupyter-widgets/base",
            "_model_module_version": "1.2.0",
            "_model_name": "LayoutModel",
            "_view_count": null,
            "_view_module": "@jupyter-widgets/base",
            "_view_module_version": "1.2.0",
            "_view_name": "LayoutView",
            "align_content": null,
            "align_items": null,
            "align_self": null,
            "border": null,
            "bottom": null,
            "display": null,
            "flex": null,
            "flex_flow": null,
            "grid_area": null,
            "grid_auto_columns": null,
            "grid_auto_flow": null,
            "grid_auto_rows": null,
            "grid_column": null,
            "grid_gap": null,
            "grid_row": null,
            "grid_template_areas": null,
            "grid_template_columns": null,
            "grid_template_rows": null,
            "height": null,
            "justify_content": null,
            "justify_items": null,
            "left": null,
            "margin": null,
            "max_height": null,
            "max_width": null,
            "min_height": null,
            "min_width": null,
            "object_fit": null,
            "object_position": null,
            "order": null,
            "overflow": null,
            "overflow_x": null,
            "overflow_y": null,
            "padding": null,
            "right": null,
            "top": null,
            "visibility": null,
            "width": null
          }
        }
      }
    }
  },
  "nbformat": 4,
  "nbformat_minor": 0
}