{
  "cells": [
    {
      "cell_type": "markdown",
      "id": "1c43e3c7",
      "metadata": {
        "id": "1c43e3c7"
      },
      "source": [
        "#  Plotting Earthquake Locations\n",
        "This activity looks for patterns in data from the U.S. Geological Survey (USGS) on earthquakes and other seismic events around the world.\n",
        "\n",
        "To get started,\n",
        "- You won't hurt anything by experimenting. If you break it, close the tab and open the activity again to start over.\n",
        "- Is this your first time? Need a refresher? Try the 5-minute [Intro to Coding activity](https://colab.research.google.com/github/adamlamee/CODINGinK12/blob/master/notebooks/intro.ipynb) and come back here.\n",
        "\n",
        "When you're ready, run each code cell until you get down to **Part One**."
      ]
    },
    {
      "cell_type": "code",
      "execution_count": null,
      "id": "577fee6d",
      "metadata": {
        "id": "577fee6d",
        "outputId": "8aaa0dd5-ea15-47bb-ff69-07e9a23a4c3d",
        "colab": {
          "base_uri": "https://localhost:8080/"
        }
      },
      "outputs": [
        {
          "output_type": "stream",
          "name": "stdout",
          "text": [
            "Looking in indexes: https://pypi.org/simple, https://us-python.pkg.dev/colab-wheels/public/simple/\n",
            "Collecting geopandas\n",
            "  Downloading geopandas-0.13.0-py3-none-any.whl (1.1 MB)\n",
            "\u001b[2K     \u001b[90m━━━━━━━━━━━━━━━━━━━━━━━━━━━━━━━━━━━━━━━━\u001b[0m \u001b[32m1.1/1.1 MB\u001b[0m \u001b[31m8.3 MB/s\u001b[0m eta \u001b[36m0:00:00\u001b[0m\n",
            "\u001b[?25hCollecting fiona>=1.8.19 (from geopandas)\n",
            "  Downloading Fiona-1.9.4.post1-cp310-cp310-manylinux_2_17_x86_64.manylinux2014_x86_64.whl (16.4 MB)\n",
            "\u001b[2K     \u001b[90m━━━━━━━━━━━━━━━━━━━━━━━━━━━━━━━━━━━━━━━━\u001b[0m \u001b[32m16.4/16.4 MB\u001b[0m \u001b[31m37.4 MB/s\u001b[0m eta \u001b[36m0:00:00\u001b[0m\n",
            "\u001b[?25hRequirement already satisfied: packaging in /usr/local/lib/python3.10/dist-packages (from geopandas) (23.1)\n",
            "Requirement already satisfied: pandas>=1.1.0 in /usr/local/lib/python3.10/dist-packages (from geopandas) (1.5.3)\n",
            "Collecting pyproj>=3.0.1 (from geopandas)\n",
            "  Downloading pyproj-3.5.0-cp310-cp310-manylinux_2_17_x86_64.manylinux2014_x86_64.whl (7.7 MB)\n",
            "\u001b[2K     \u001b[90m━━━━━━━━━━━━━━━━━━━━━━━━━━━━━━━━━━━━━━━━\u001b[0m \u001b[32m7.7/7.7 MB\u001b[0m \u001b[31m43.3 MB/s\u001b[0m eta \u001b[36m0:00:00\u001b[0m\n",
            "\u001b[?25hRequirement already satisfied: shapely>=1.7.1 in /usr/local/lib/python3.10/dist-packages (from geopandas) (2.0.1)\n",
            "Requirement already satisfied: attrs>=19.2.0 in /usr/local/lib/python3.10/dist-packages (from fiona>=1.8.19->geopandas) (23.1.0)\n",
            "Requirement already satisfied: certifi in /usr/local/lib/python3.10/dist-packages (from fiona>=1.8.19->geopandas) (2022.12.7)\n",
            "Requirement already satisfied: click~=8.0 in /usr/local/lib/python3.10/dist-packages (from fiona>=1.8.19->geopandas) (8.1.3)\n",
            "Collecting click-plugins>=1.0 (from fiona>=1.8.19->geopandas)\n",
            "  Downloading click_plugins-1.1.1-py2.py3-none-any.whl (7.5 kB)\n",
            "Collecting cligj>=0.5 (from fiona>=1.8.19->geopandas)\n",
            "  Downloading cligj-0.7.2-py3-none-any.whl (7.1 kB)\n",
            "Requirement already satisfied: six in /usr/local/lib/python3.10/dist-packages (from fiona>=1.8.19->geopandas) (1.16.0)\n",
            "Requirement already satisfied: python-dateutil>=2.8.1 in /usr/local/lib/python3.10/dist-packages (from pandas>=1.1.0->geopandas) (2.8.2)\n",
            "Requirement already satisfied: pytz>=2020.1 in /usr/local/lib/python3.10/dist-packages (from pandas>=1.1.0->geopandas) (2022.7.1)\n",
            "Requirement already satisfied: numpy>=1.21.0 in /usr/local/lib/python3.10/dist-packages (from pandas>=1.1.0->geopandas) (1.22.4)\n"
          ]
        }
      ],
      "source": [
        "import numpy as np\n",
        "import pandas as pd\n",
        "import matplotlib.pyplot as plt\n",
        "!pip install geopandas\n",
        "import geopandas as gpd"
      ]
    },
    {
      "cell_type": "code",
      "execution_count": null,
      "id": "4e16f9a6",
      "metadata": {
        "id": "4e16f9a6"
      },
      "outputs": [],
      "source": [
        "# one month of seismic data from early 2019\n",
        "data = pd.read_csv(\"https://github.com/adamlamee/CODINGinK12/raw/master/data/quakes.csv\")\n",
        "\n",
        "# uncomment the line below instead to use live data updated every 15 minutes\n",
        "#data = pd.read_csv(\"http://earthquake.usgs.gov/earthquakes/feed/v1.0/summary/all_month.csv\")\n",
        "\n",
        "data.head(5) # choose to show the first (how many) lines of the file"
      ]
    },
    {
      "cell_type": "code",
      "execution_count": null,
      "id": "f308f0f4",
      "metadata": {
        "id": "f308f0f4"
      },
      "outputs": [],
      "source": [
        "# The .shape command displays the (number of rows , number of columns) in a file.\n",
        "data.shape"
      ]
    },
    {
      "cell_type": "markdown",
      "id": "7e759151",
      "metadata": {
        "id": "7e759151"
      },
      "source": [
        "## Part One\n",
        "The table above shows seismic reading (vibrations in the Earth) detected any time in the past month.\n",
        "- What do you think each of the column headings represent?\n",
        "- How many seismic events are included in this data set?\n",
        "\n",
        "When you're ready, run each code cell until you get down to **Part Two**."
      ]
    },
    {
      "cell_type": "code",
      "execution_count": null,
      "id": "5771eee2",
      "metadata": {
        "id": "5771eee2"
      },
      "outputs": [],
      "source": [
        "# makes the map\n",
        "world = gpd.read_file(gpd.datasets.get_path('naturalearth_lowres'))\n",
        "world.plot();"
      ]
    },
    {
      "cell_type": "code",
      "execution_count": null,
      "id": "9baf8d11",
      "metadata": {
        "id": "9baf8d11"
      },
      "outputs": [],
      "source": [
        "# choose which data to plot\n",
        "plotdata = data.query('depth > 0') #depth is in km\n",
        "\n",
        "# makes a map with those data\n",
        "fig, ax = plt.subplots(figsize=(12,7))\n",
        "x = plotdata['longitude']\n",
        "y = plotdata['latitude']\n",
        "world.plot(ax=ax, color='lightblue', edgecolor='grey')     # this part is the map\n",
        "ax.scatter(x,y, s=2, color='purple')    # this adds the scatter points on top\n",
        "ax.set_title('Title!')\n",
        "ax.set_xlabel('label me')\n",
        "ax.set_ylabel('me, too!')\n",
        "#ax.set_xlim(-160, -140)    # uncomment this and edit to zoom in\n",
        "#ax.set_ylim(15, 25)        # uncomment this and edit to zoom in\n",
        "plt.show()"
      ]
    },
    {
      "cell_type": "markdown",
      "id": "7149e531",
      "metadata": {
        "id": "7149e531"
      },
      "source": [
        "## Part Two\n",
        "The code above make a scatterplot with a point for each seismic event in the data table.\n",
        "- Do you notice a pattern in the graph? Are any shapes familiar?\n",
        "    - Hint: uncomment the line that colors in the oceans\n",
        "- Where do seismic readings tend to occur?\n",
        "- The title and axis labels on the graph could use some work. Try editing the code above the graph, then run the code again to see the changes.\n",
        "\n",
        "## Part Three\n",
        "Now it's time to conduct your own investigation. Seismic events can be shallow (a few km) or more than 600 km deep. The code above lets you filter the data set by depth (it's called a \"query\").\n",
        "- Find the line that does a query on \"depth\".\n",
        "- Try filtering the data for only seismic events deeper than 100 km, then make a plot.\n",
        "- Do you see any pattern in where the deepest earthquakes are?\n",
        "- Where do the shallowest earthquakes occur?\n",
        "- Grab the latest data instead by editing the 2nd code cell. Are most of the seismic events in the same places?\n",
        "\n",
        "---\n",
        "## Saving Your Work\n",
        "This is running on a Google server on a distant planet and deletes what you've done when you close this tab. To save your work for later use or analysis you have a few options:\n",
        "- File > \"Save a copy in Drive\" will save it to you Google Drive in a folder called \"Collaboratory\". You can run it later from there.\n",
        "- File > \"Download .ipynb\" to save to your computer (and run with Jupyter software later)\n",
        "- File > Print to ... um ... print.\n",
        "- To save an image of a graph or chart, right-click on it and select Save Image as ...\n",
        "\n",
        "## Credits\n",
        "The data come from the [USGS earthquakes page](http://earthquake.usgs.gov/earthquakes/feed/v1.0/csv.php). This notebook was created by Physics teacher and Quarknet member Peter Apps, York Middle/High School, Retsof, NY, and further developed by [Adam LaMee](https://adamlamee.github.io/). Thanks to the great folks at [Binder](https://mybinder.org/) and [Google Colaboratory](https://colab.research.google.com/notebooks/intro.ipynb) for making this notebook interactive without you needing to download it or install [Jupyter](https://jupyter.org/) on your own device. Find more activities and license info at [CODINGinK12.org](http://www.codingink12.org)."
      ]
    }
  ],
  "metadata": {
    "kernelspec": {
      "display_name": "Python 3 (ipykernel)",
      "language": "python",
      "name": "python3"
    },
    "language_info": {
      "codemirror_mode": {
        "name": "ipython",
        "version": 3
      },
      "file_extension": ".py",
      "mimetype": "text/x-python",
      "name": "python",
      "nbconvert_exporter": "python",
      "pygments_lexer": "ipython3",
      "version": "3.9.7"
    },
    "colab": {
      "provenance": []
    }
  },
  "nbformat": 4,
  "nbformat_minor": 5
}